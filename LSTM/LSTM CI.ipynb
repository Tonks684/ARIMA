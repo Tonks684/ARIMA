{
 "cells": [
  {
   "cell_type": "markdown",
   "metadata": {},
   "source": [
    "### LSTM Confidence Interval"
   ]
  },
  {
   "cell_type": "code",
   "execution_count": null,
   "metadata": {},
   "outputs": [],
   "source": []
  },
  {
   "cell_type": "code",
   "execution_count": 2,
   "metadata": {},
   "outputs": [],
   "source": [
    "model_output_dir = \"/Users/smt29021/OneDrive - GSK/Samuel Tonks/LSTMs/LSTM_MS_MV_MP/\""
   ]
  },
  {
   "cell_type": "code",
   "execution_count": 1,
   "metadata": {},
   "outputs": [
    {
     "name": "stderr",
     "output_type": "stream",
     "text": [
      "Using TensorFlow backend.\n"
     ]
    }
   ],
   "source": [
    "from keras.models import Model, Sequential\n",
    "from keras import backend as K\n",
    "\n",
    "def create_dropout_predict_function(model, dropout):\n",
    "    \"\"\"\n",
    "    Create a keras function to predict with dropout\n",
    "    model : keras model\n",
    "    dropout : fraction dropout to apply to all layers\n",
    "    \n",
    "    Returns\n",
    "    predict_with_dropout : keras function for predicting with dropout\n",
    "    \"\"\"\n",
    "    \n",
    "    # Load the config of the original model\n",
    "    conf = model.get_config()\n",
    "    # Add the specified dropout to all layers\n",
    "    for layer in conf['layers']:\n",
    "        # Dropout layers\n",
    "        if layer[\"class_name\"]==\"Dropout\":\n",
    "            layer[\"config\"][\"rate\"] = dropout\n",
    "        # Recurrent layers with dropout\n",
    "        elif \"dropout\" in layer[\"config\"].keys():\n",
    "            layer[\"config\"][\"dropout\"] = dropout\n",
    "\n",
    "    # Create a new model with specified dropout\n",
    "    if type(model)==Sequential:\n",
    "        # Sequential\n",
    "        model_dropout = Sequential.from_config(conf)\n",
    "    else:\n",
    "        # Functional\n",
    "        model_dropout = Model.from_config(conf)\n",
    "    model_dropout.set_weights(model.get_weights()) \n",
    "    \n",
    "    # Create a function to predict with the dropout on\n",
    "    predict_with_dropout = K.function(model_dropout.inputs+[K.learning_phase()], model_dropout.outputs)\n",
    "    \n",
    "    return predict_with_dropout"
   ]
  },
  {
   "cell_type": "code",
   "execution_count": 3,
   "metadata": {},
   "outputs": [
    {
     "ename": "NameError",
     "evalue": "name 'total_sequences_stepsin' is not defined",
     "output_type": "error",
     "traceback": [
      "\u001b[0;31m---------------------------------------------------------------------------\u001b[0m",
      "\u001b[0;31mNameError\u001b[0m                                 Traceback (most recent call last)",
      "\u001b[0;32m<ipython-input-3-cac938fc6703>\u001b[0m in \u001b[0;36m<module>\u001b[0;34m\u001b[0m\n\u001b[1;32m      4\u001b[0m \u001b[0mdropout\u001b[0m \u001b[0;34m=\u001b[0m \u001b[0;36m0.5\u001b[0m\u001b[0;34m\u001b[0m\u001b[0;34m\u001b[0m\u001b[0m\n\u001b[1;32m      5\u001b[0m \u001b[0mnum_iter\u001b[0m \u001b[0;34m=\u001b[0m \u001b[0;36m20\u001b[0m\u001b[0;34m\u001b[0m\u001b[0;34m\u001b[0m\u001b[0m\n\u001b[0;32m----> 6\u001b[0;31m \u001b[0mnum_samples\u001b[0m \u001b[0;34m=\u001b[0m \u001b[0mtotal_sequences_stepsin\u001b[0m\u001b[0;34m.\u001b[0m\u001b[0mshape\u001b[0m\u001b[0;34m[\u001b[0m\u001b[0;36m0\u001b[0m\u001b[0;34m]\u001b[0m\u001b[0;34m\u001b[0m\u001b[0;34m\u001b[0m\u001b[0m\n\u001b[0m\u001b[1;32m      7\u001b[0m \u001b[0mprint\u001b[0m\u001b[0;34m(\u001b[0m\u001b[0mnum_samples\u001b[0m\u001b[0;34m)\u001b[0m\u001b[0;34m\u001b[0m\u001b[0;34m\u001b[0m\u001b[0m\n\u001b[1;32m      8\u001b[0m \u001b[0mpath_to_model\u001b[0m \u001b[0;34m=\u001b[0m \u001b[0mmodel_output_dir\u001b[0m \u001b[0;34m+\u001b[0m \u001b[0;34m\"pretrainedmodel.hdf5\"\u001b[0m\u001b[0;34m\u001b[0m\u001b[0;34m\u001b[0m\u001b[0m\n",
      "\u001b[0;31mNameError\u001b[0m: name 'total_sequences_stepsin' is not defined"
     ]
    }
   ],
   "source": [
    "import numpy as np\n",
    "from keras.models import load_model\n",
    "\n",
    "dropout = 0.5\n",
    "num_iter = 20\n",
    "num_samples = total_sequences_stepsin.shape[0]\n",
    "print(num_samples)\n",
    "path_to_model = model_output_dir + \"pretrainedmodel.hdf5\"\n",
    "model = load_model(path_to_model)\n"
   ]
  },
  {
   "cell_type": "code",
   "execution_count": null,
   "metadata": {},
   "outputs": [],
   "source": [
    "predict_with_dropout = create_dropout_predict_function(model, dropout)"
   ]
  },
  {
   "cell_type": "code",
   "execution_count": null,
   "metadata": {},
   "outputs": [],
   "source": [
    "predictions = np.zeros((num_samples, num_iter))\n",
    "for i in range(num_iter):\n",
    "    predictions[:,i] = predict_with_dropout(test_rescaled_array)[0].reshape(-1)"
   ]
  },
  {
   "cell_type": "code",
   "execution_count": null,
   "metadata": {},
   "outputs": [],
   "source": []
  }
 ],
 "metadata": {
  "kernelspec": {
   "display_name": "Python 3",
   "language": "python",
   "name": "python3"
  },
  "language_info": {
   "codemirror_mode": {
    "name": "ipython",
    "version": 3
   },
   "file_extension": ".py",
   "mimetype": "text/x-python",
   "name": "python",
   "nbconvert_exporter": "python",
   "pygments_lexer": "ipython3",
   "version": "3.7.9"
  }
 },
 "nbformat": 4,
 "nbformat_minor": 4
}
